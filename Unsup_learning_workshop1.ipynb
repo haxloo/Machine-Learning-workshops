{
  "nbformat": 4,
  "nbformat_minor": 0,
  "metadata": {
    "colab": {
      "provenance": []
    },
    "kernelspec": {
      "name": "python3",
      "display_name": "Python 3"
    },
    "language_info": {
      "name": "python"
    }
  },
  "cells": [
    {
      "cell_type": "markdown",
      "source": [
        "- Import the libraries you're gonna use in the cell below\n",
        "- Importez les bibliothèques que vous allez utiliser dans la cellule ci-dessous"
      ],
      "metadata": {
        "id": "ol1ghWFKp0BQ"
      }
    },
    {
      "cell_type": "code",
      "source": [
        "import pandas as pd\n",
        "import numpy as np\n",
        "import matplotlib.pyplot as plt\n",
        "\n",
        "from sklearn.datasets import make_blobs\n",
        "\n",
        "from sklearn.cluster import AgglomerativeClustering\n",
        "from sklearn.cluster import KMeans"
      ],
      "metadata": {
        "id": "FEjIs-vOKvzl"
      },
      "execution_count": null,
      "outputs": []
    },
    {
      "cell_type": "markdown",
      "source": [
        "# 0 - Agglomerative clustring (example)"
      ],
      "metadata": {
        "id": "q_OFuquUSYv2"
      }
    },
    {
      "cell_type": "code",
      "source": [
        "X, y = make_blobs(n_samples=100, centers=4, cluster_std = 0.5) #make_blobs generates random data, n_samples is the number of points you want to generate, centers is the number of groupes you wanna split your data into, and  cluster_std is ...... well... you tell me what std is...we did it before :)\n",
        "plt.scatter(x=X[:,0], y=X[:,1])"
      ],
      "metadata": {
        "id": "m9a2a2QySc0X",
        "outputId": "3905af90-38f0-407f-c4dd-8ad661df1b65",
        "colab": {
          "base_uri": "https://localhost:8080/",
          "height": 282
        }
      },
      "execution_count": null,
      "outputs": [
        {
          "output_type": "execute_result",
          "data": {
            "text/plain": [
              "<matplotlib.collections.PathCollection at 0x7fab8059afd0>"
            ]
          },
          "metadata": {},
          "execution_count": 2
        },
        {
          "output_type": "display_data",
          "data": {
            "text/plain": [
              "<Figure size 432x288 with 1 Axes>"
            ],
            "image/png": "[encoded data removed]"
          },
          "metadata": {
            "needs_background": "light"
          }
        }
      ]
    },
    {
      "cell_type": "code",
      "source": [
        "import scipy.cluster.hierarchy as shc\n",
        "plt.title(\"My Dendrograms\")\n",
        "dendro=shc.dendrogram(shc.linkage(X, method=\"complete\"))"
      ],
      "metadata": {
        "id": "7FL3fooxTDY1",
        "outputId": "9d8c4888-a6d0-40b3-aea5-9c7c19947656",
        "colab": {
          "base_uri": "https://localhost:8080/",
          "height": 278
        }
      },
      "execution_count": null,
      "outputs": [
        {
          "output_type": "display_data",
          "data": {
            "text/plain": [
              "<Figure size 432x288 with 1 Axes>"
            ],
            "image/png": "[encoded data removed]"
          },
          "metadata": {
            "needs_background": "light"
          }
        }
      ]
    },
    {
      "cell_type": "code",
      "source": [
        "model = AgglomerativeClustering(n_clusters=4, affinity='euclidean', linkage='complete')\n",
        "model.fit_predict(X)"
      ],
      "metadata": {
        "id": "MH48PyGujNdb",
        "outputId": "c614f274-94c8-43d4-f176-51959054db18",
        "colab": {
          "base_uri": "https://localhost:8080/"
        }
      },
      "execution_count": null,
      "outputs": [
        {
          "output_type": "execute_result",
          "data": {
            "text/plain": [
              "array([2, 1, 0, 0, 0, 1, 2, 1, 0, 1, 2, 2, 3, 1, 2, 0, 0, 0, 2, 1, 2, 1,\n",
              "       2, 0, 1, 0, 0, 2, 2, 1, 0, 0, 1, 3, 2, 0, 3, 3, 2, 3, 3, 3, 2, 0,\n",
              "       0, 0, 0, 2, 2, 3, 3, 3, 0, 1, 3, 1, 3, 1, 1, 1, 3, 3, 1, 3, 2, 2,\n",
              "       1, 3, 3, 1, 1, 0, 2, 2, 1, 1, 3, 0, 3, 0, 0, 2, 0, 2, 2, 1, 0, 3,\n",
              "       0, 2, 1, 2, 3, 1, 3, 3, 3, 2, 1, 3])"
            ]
          },
          "metadata": {},
          "execution_count": 4
        }
      ]
    },
    {
      "cell_type": "code",
      "source": [
        "plt.scatter(x=X[:,0], y=X[:,1], c= model.labels_, cmap='rainbow' )"
      ],
      "metadata": {
        "id": "Z0Dy1VuVjo7a",
        "outputId": "ce37fc4b-be18-4b35-9ba6-e19b46bde402",
        "colab": {
          "base_uri": "https://localhost:8080/",
          "height": 282
        }
      },
      "execution_count": null,
      "outputs": [
        {
          "output_type": "execute_result",
          "data": {
            "text/plain": [
              "<matplotlib.collections.PathCollection at 0x7fab7d02ba10>"
            ]
          },
          "metadata": {},
          "execution_count": 5
        },
        {
          "output_type": "display_data",
          "data": {
            "text/plain": [
              "<Figure size 432x288 with 1 Axes>"
            ],
            "image/png": "[encoded data removed]"
          },
          "metadata": {
            "needs_background": "light"
          }
        }
      ]
    },
    {
      "cell_type": "markdown",
      "source": [
        "# 1 - Agglomerative Clustering (sklearn)"
      ],
      "metadata": {
        "id": "lbnmO6fFJXez"
      }
    },
    {
      "cell_type": "markdown",
      "source": [
        "- Import the Mail_customers.csv file using pandas\n",
        "- Importez le fichier Mail_customers.csv en utilisant pandas"
      ],
      "metadata": {
        "id": "INOgNLkp_3lZ"
      }
    },
    {
      "cell_type": "code",
      "source": [
        "df =pd.read_csv('Mall_customers.csv')\n",
        "df.head()"
      ],
      "metadata": {
        "id": "PSNcTIh6JXNA",
        "colab": {
          "base_uri": "https://localhost:8080/",
          "height": 206
        },
        "outputId": "e3699a2c-324a-474a-908c-2c2bacd0f7f8"
      },
      "execution_count": null,
      "outputs": [
        {
          "output_type": "execute_result",
          "data": {
            "text/plain": [
              "   CustomerID   Genre  Age  Annual Income (k$)  Spending Score (1-100)\n",
              "0           1    Male   19                  15                      39\n",
              "1           2    Male   21                  15                      81\n",
              "2           3  Female   20                  16                       6\n",
              "3           4  Female   23                  16                      77\n",
              "4           5  Female   31                  17                      40"
            ],
            "text/html": [
              "\n",
              "  <div id=\"df-8d89f5b9-8148-4df3-85cd-452640a8f876\">\n",
              "    <div class=\"colab-df-container\">\n",
              "      <div>\n",
              "<style scoped>\n",
              "    .dataframe tbody tr th:only-of-type {\n",
              "        vertical-align: middle;\n",
              "    }\n",
              "\n",
              "    .dataframe tbody tr th {\n",
              "        vertical-align: top;\n",
              "    }\n",
              "\n",
              "    .dataframe thead th {\n",
              "        text-align: right;\n",
              "    }\n",
              "</style>\n",
              "<table border=\"1\" class=\"dataframe\">\n",
              "  <thead>\n",
              "    <tr style=\"text-align: right;\">\n",
              "      <th></th>\n",
              "      <th>CustomerID</th>\n",
              "      <th>Genre</th>\n",
              "      <th>Age</th>\n",
              "      <th>Annual Income (k$)</th>\n",
              "      <th>Spending Score (1-100)</th>\n",
              "    </tr>\n",
              "  </thead>\n",
              "  <tbody>\n",
              "    <tr>\n",
              "      <th>0</th>\n",
              "      <td>1</td>\n",
              "      <td>Male</td>\n",
              "      <td>19</td>\n",
              "      <td>15</td>\n",
              "      <td>39</td>\n",
              "    </tr>\n",
              "    <tr>\n",
              "      <th>1</th>\n",
              "      <td>2</td>\n",
              "      <td>Male</td>\n",
              "      <td>21</td>\n",
              "      <td>15</td>\n",
              "      <td>81</td>\n",
              "    </tr>\n",
              "    <tr>\n",
              "      <th>2</th>\n",
              "      <td>3</td>\n",
              "      <td>Female</td>\n",
              "      <td>20</td>\n",
              "      <td>16</td>\n",
              "      <td>6</td>\n",
              "    </tr>\n",
              "    <tr>\n",
              "      <th>3</th>\n",
              "      <td>4</td>\n",
              "      <td>Female</td>\n",
              "      <td>23</td>\n",
              "      <td>16</td>\n",
              "      <td>77</td>\n",
              "    </tr>\n",
              "    <tr>\n",
              "      <th>4</th>\n",
              "      <td>5</td>\n",
              "      <td>Female</td>\n",
              "      <td>31</td>\n",
              "      <td>17</td>\n",
              "      <td>40</td>\n",
              "    </tr>\n",
              "  </tbody>\n",
              "</table>\n",
              "</div>\n",
              "      <button class=\"colab-df-convert\" onclick=\"convertToInteractive('df-8d89f5b9-8148-4df3-85cd-452640a8f876')\"\n",
              "              title=\"Convert this dataframe to an interactive table.\"\n",
              "              style=\"display:none;\">\n",
              "        \n",
              "  <svg xmlns=\"http://www.w3.org/2000/svg\" height=\"24px\"viewBox=\"0 0 24 24\"\n",
              "       width=\"24px\">\n",
              "    <path d=\"M0 0h24v24H0V0z\" fill=\"none\"/>\n",
              "    <path d=\"M18.56 5.44l.94 2.06.94-2.06 2.06-.94-2.06-.94-.94-2.06-.94 2.06-2.06.94zm-11 1L8.5 8.5l.94-2.06 2.06-.94-2.06-.94L8.5 2.5l-.94 2.06-2.06.94zm10 10l.94 2.06.94-2.06 2.06-.94-2.06-.94-.94-2.06-.94 2.06-2.06.94z\"/><path d=\"M17.41 7.96l-1.37-1.37c-.4-.4-.92-.59-1.43-.59-.52 0-1.04.2-1.43.59L10.3 9.45l-7.72 7.72c-.78.78-.78 2.05 0 2.83L4 21.41c.39.39.9.59 1.41.59.51 0 1.02-.2 1.41-.59l7.78-7.78 2.81-2.81c.8-.78.8-2.07 0-2.86zM5.41 20L4 18.59l7.72-7.72 1.47 1.35L5.41 20z\"/>\n",
              "  </svg>\n",
              "      </button>\n",
              "      \n",
              "  <style>\n",
              "    .colab-df-container {\n",
              "      display:flex;\n",
              "      flex-wrap:wrap;\n",
              "      gap: 12px;\n",
              "    }\n",
              "\n",
              "    .colab-df-convert {\n",
              "      background-color: #E8F0FE;\n",
              "      border: none;\n",
              "      border-radius: 50%;\n",
              "      cursor: pointer;\n",
              "      display: none;\n",
              "      fill: #1967D2;\n",
              "      height: 32px;\n",
              "      padding: 0 0 0 0;\n",
              "      width: 32px;\n",
              "    }\n",
              "\n",
              "    .colab-df-convert:hover {\n",
              "      background-color: #E2EBFA;\n",
              "      box-shadow: 0px 1px 2px rgba(60, 64, 67, 0.3), 0px 1px 3px 1px rgba(60, 64, 67, 0.15);\n",
              "      fill: #174EA6;\n",
              "    }\n",
              "\n",
              "    [theme=dark] .colab-df-convert {\n",
              "      background-color: #3B4455;\n",
              "      fill: #D2E3FC;\n",
              "    }\n",
              "\n",
              "    [theme=dark] .colab-df-convert:hover {\n",
              "      background-color: #434B5C;\n",
              "      box-shadow: 0px 1px 3px 1px rgba(0, 0, 0, 0.15);\n",
              "      filter: drop-shadow(0px 1px 2px rgba(0, 0, 0, 0.3));\n",
              "      fill: #FFFFFF;\n",
              "    }\n",
              "  </style>\n",
              "\n",
              "      <script>\n",
              "        const buttonEl =\n",
              "          document.querySelector('#df-8d89f5b9-8148-4df3-85cd-452640a8f876 button.colab-df-convert');\n",
              "        buttonEl.style.display =\n",
              "          google.colab.kernel.accessAllowed ? 'block' : 'none';\n",
              "\n",
              "        async function convertToInteractive(key) {\n",
              "          const element = document.querySelector('#df-8d89f5b9-8148-4df3-85cd-452640a8f876');\n",
              "          const dataTable =\n",
              "            await google.colab.kernel.invokeFunction('convertToInteractive',\n",
              "                                                     [key], {});\n",
              "          if (!dataTable) return;\n",
              "\n",
              "          const docLinkHtml = 'Like what you see? Visit the ' +\n",
              "            '<a target=\"_blank\" href=https://colab.research.google.com/notebooks/data_table.ipynb>data table notebook</a>'\n",
              "            + ' to learn more about interactive tables.';\n",
              "          element.innerHTML = '';\n",
              "          dataTable['output_type'] = 'display_data';\n",
              "          await google.colab.output.renderOutput(dataTable, element);\n",
              "          const docLink = document.createElement('div');\n",
              "          docLink.innerHTML = docLinkHtml;\n",
              "          element.appendChild(docLink);\n",
              "        }\n",
              "      </script>\n",
              "    </div>\n",
              "  </div>\n",
              "  "
            ]
          },
          "metadata": {},
          "execution_count": 14
        }
      ]
    },
    {
      "cell_type": "markdown",
      "source": [
        "- In this example we’re only interested in the Annual Income (k\\$) and the Spending Score (1-100) columns\n",
        "- Dans cet exemple, nous ne sommes intéressés que par les colonnes \"Revenu annuel (k$)\" et \"Score de dépenses (1-100)\"."
      ],
      "metadata": {
        "id": "5xEmGureAFm8"
      }
    },
    {
      "cell_type": "code",
      "source": [
        "df.drop(['CustomerID'], axis = 1, inplace = True)"
      ],
      "metadata": {
        "id": "jRg4hducWo9Z"
      },
      "execution_count": null,
      "outputs": []
    },
    {
      "cell_type": "code",
      "source": [
        "df.drop(['Genre', 'Age'], axis = 1, inplace = True)\n"
      ],
      "metadata": {
        "id": "9m-X5NfBNKjz"
      },
      "execution_count": null,
      "outputs": []
    },
    {
      "cell_type": "markdown",
      "source": [
        "- Try ploting the annual income and spending score using a scatter plot\n",
        "- Essayez de représenter les revenus annuels et les dépenses à l'aide d'un diagramme de dispersion."
      ],
      "metadata": {
        "id": "XLVGDuO6BxfQ"
      }
    },
    {
      "cell_type": "code",
      "execution_count": null,
      "metadata": {
        "id": "iWv3jEvYDQwZ",
        "colab": {
          "base_uri": "https://localhost:8080/",
          "height": 265
        },
        "outputId": "c7be7665-bf3f-4447-fbcf-d07cb258a0ad"
      },
      "outputs": [
        {
          "output_type": "display_data",
          "data": {
            "text/plain": [
              "<Figure size 432x288 with 1 Axes>"
            ],
            "image/png": "[encoded data removed]"
          },
          "metadata": {
            "needs_background": "light"
          }
        }
      ],
      "source": [
        "plt.plot(df['Annual Income (k$)'],df ['Spending Score (1-100)'],'ro')\n",
        "plt.show()"
      ]
    },
    {
      "cell_type": "markdown",
      "source": [
        "- Show the dendrogram of your dataset. Don't forget to import scipy.cluster.hierarchy as shc.\n",
        "- Affichez le dendrogramme de votre jeu de données. N'oubliez pas d'importer scipy.cluster.hierarchy en tant que shc."
      ],
      "metadata": {
        "id": "K5Abs8rxDY8q"
      }
    },
    {
      "cell_type": "code",
      "source": [
        "plt.figure(figsize=(20,14))\n",
        "plt.title(\"My Dendrograms\")\n",
        "dendro=shc.dendrogram(shc.linkage(df, method=\"complete\"))"
      ],
      "metadata": {
        "id": "mzb_havgCOzJ",
        "colab": {
          "base_uri": "https://localhost:8080/",
          "height": 795
        },
        "outputId": "9b9f6e2e-1fa4-4f2a-8178-5adc2040e2b2"
      },
      "execution_count": null,
      "outputs": [
        {
          "output_type": "display_data",
          "data": {
            "text/plain": [
              "<Figure size 1440x1008 with 1 Axes>"
            ],
            "image/png": "[encoded data removed]"
          },
          "metadata": {
            "needs_background": "light"
          }
        }
      ]
    },
    {
      "cell_type": "markdown",
      "source": [
        "- Create the model with 5 clusters, set the metric used to compute the linkage  to “euclidean” and the linkage to complete. And then finish by fitting the model to the data\n",
        "- Créez le modèle avec 5 clusters, définissez la métrique utilisée pour calculer le lien à \"euclidien\" et le lien à complet. Et enfin, terminez en ajustant le modèle aux données."
      ],
      "metadata": {
        "id": "VGK-qnzxCGLp"
      }
    },
    {
      "cell_type": "code",
      "source": [
        "model = AgglomerativeClustering(n_clusters=5, affinity='euclidean', linkage='complete')\n",
        "model.fit_predict(df)"
      ],
      "metadata": {
        "id": "UimCcw5GQMDH",
        "colab": {
          "base_uri": "https://localhost:8080/"
        },
        "outputId": "ad37bf51-aa1f-47a1-9169-e6b76e4d69ba"
      },
      "execution_count": null,
      "outputs": [
        {
          "output_type": "execute_result",
          "data": {
            "text/plain": [
              "array([4, 3, 4, 3, 4, 3, 4, 3, 4, 3, 4, 3, 4, 3, 4, 3, 4, 3, 4, 3, 4, 3,\n",
              "       4, 3, 4, 3, 4, 3, 4, 3, 4, 3, 4, 3, 4, 3, 4, 3, 4, 3, 4, 3, 4, 1,\n",
              "       4, 1, 1, 1, 1, 1, 1, 1, 1, 1, 1, 1, 1, 1, 1, 1, 1, 1, 1, 1, 1, 1,\n",
              "       1, 1, 1, 1, 1, 1, 1, 1, 1, 1, 1, 1, 1, 1, 1, 1, 1, 1, 1, 1, 1, 1,\n",
              "       1, 1, 1, 1, 1, 1, 1, 1, 1, 1, 1, 1, 1, 1, 1, 1, 1, 1, 1, 1, 1, 1,\n",
              "       1, 1, 1, 1, 1, 1, 1, 1, 1, 1, 1, 1, 1, 0, 1, 0, 1, 0, 2, 0, 2, 0,\n",
              "       1, 0, 2, 0, 2, 0, 2, 0, 2, 0, 1, 0, 2, 0, 1, 0, 2, 0, 2, 0, 2, 0,\n",
              "       2, 0, 2, 0, 2, 0, 1, 0, 2, 0, 2, 0, 2, 0, 2, 0, 2, 0, 2, 0, 2, 0,\n",
              "       2, 0, 2, 0, 2, 0, 2, 0, 2, 0, 2, 0, 2, 0, 2, 0, 2, 0, 2, 0, 2, 0,\n",
              "       2, 0])"
            ]
          },
          "metadata": {},
          "execution_count": 32
        }
      ]
    },
    {
      "cell_type": "markdown",
      "source": [
        "- Print the labels that the model gave to each point using model.label_\n",
        "- Imprimez les étiquettes que le modèle a donné à chaque point en utilisant model.label_"
      ],
      "metadata": {
        "id": "WtLCvNdmOyXA"
      }
    },
    {
      "cell_type": "code",
      "source": [
        "plt.scatter(x=df[\"Annual Income (k$)\"],y=df[\"Spending Score (1-100)\"], c =model.labels_, cmap='rainbow')\n",
        "plt.show()"
      ],
      "metadata": {
        "colab": {
          "base_uri": "https://localhost:8080/",
          "height": 265
        },
        "id": "sQhVw9QSdQTs",
        "outputId": "e616e5ff-d618-4b03-c8e6-f8a3c2732007"
      },
      "execution_count": null,
      "outputs": [
        {
          "output_type": "display_data",
          "data": {
            "text/plain": [
              "<Figure size 432x288 with 1 Axes>"
            ],
            "image/png": "[encoded data removed]"
          },
          "metadata": {
            "needs_background": "light"
          }
        }
      ]
    },
    {
      "cell_type": "markdown",
      "source": [
        "# 2 - KMeans sklearn"
      ],
      "metadata": {
        "id": "g6qWQffmj5G_"
      }
    },
    {
      "cell_type": "markdown",
      "source": [
        "- Import the Mail_customers.csv file using pandas\n",
        "- Importez le fichier Mail_customers.csv en utilisant pandas"
      ],
      "metadata": {
        "id": "r_BiMIR_PAxj"
      }
    },
    {
      "cell_type": "code",
      "source": [
        "df = pd.read_csv(\"Mall_customers.csv\")\n",
        "df.head()"
      ],
      "metadata": {
        "id": "q2PJAlQLj6qd",
        "colab": {
          "base_uri": "https://localhost:8080/",
          "height": 206
        },
        "outputId": "8201114f-d9a9-4753-b039-6c7955c8aeae"
      },
      "execution_count": null,
      "outputs": [
        {
          "output_type": "execute_result",
          "data": {
            "text/plain": [
              "   CustomerID   Genre  Age  Annual Income (k$)  Spending Score (1-100)\n",
              "0           1    Male   19                  15                      39\n",
              "1           2    Male   21                  15                      81\n",
              "2           3  Female   20                  16                       6\n",
              "3           4  Female   23                  16                      77\n",
              "4           5  Female   31                  17                      40"
            ],
            "text/html": [
              "\n",
              "  <div id=\"df-b75a3948-ef03-419e-915c-acf121d4a9cb\">\n",
              "    <div class=\"colab-df-container\">\n",
              "      <div>\n",
              "<style scoped>\n",
              "    .dataframe tbody tr th:only-of-type {\n",
              "        vertical-align: middle;\n",
              "    }\n",
              "\n",
              "    .dataframe tbody tr th {\n",
              "        vertical-align: top;\n",
              "    }\n",
              "\n",
              "    .dataframe thead th {\n",
              "        text-align: right;\n",
              "    }\n",
              "</style>\n",
              "<table border=\"1\" class=\"dataframe\">\n",
              "  <thead>\n",
              "    <tr style=\"text-align: right;\">\n",
              "      <th></th>\n",
              "      <th>CustomerID</th>\n",
              "      <th>Genre</th>\n",
              "      <th>Age</th>\n",
              "      <th>Annual Income (k$)</th>\n",
              "      <th>Spending Score (1-100)</th>\n",
              "    </tr>\n",
              "  </thead>\n",
              "  <tbody>\n",
              "    <tr>\n",
              "      <th>0</th>\n",
              "      <td>1</td>\n",
              "      <td>Male</td>\n",
              "      <td>19</td>\n",
              "      <td>15</td>\n",
              "      <td>39</td>\n",
              "    </tr>\n",
              "    <tr>\n",
              "      <th>1</th>\n",
              "      <td>2</td>\n",
              "      <td>Male</td>\n",
              "      <td>21</td>\n",
              "      <td>15</td>\n",
              "      <td>81</td>\n",
              "    </tr>\n",
              "    <tr>\n",
              "      <th>2</th>\n",
              "      <td>3</td>\n",
              "      <td>Female</td>\n",
              "      <td>20</td>\n",
              "      <td>16</td>\n",
              "      <td>6</td>\n",
              "    </tr>\n",
              "    <tr>\n",
              "      <th>3</th>\n",
              "      <td>4</td>\n",
              "      <td>Female</td>\n",
              "      <td>23</td>\n",
              "      <td>16</td>\n",
              "      <td>77</td>\n",
              "    </tr>\n",
              "    <tr>\n",
              "      <th>4</th>\n",
              "      <td>5</td>\n",
              "      <td>Female</td>\n",
              "      <td>31</td>\n",
              "      <td>17</td>\n",
              "      <td>40</td>\n",
              "    </tr>\n",
              "  </tbody>\n",
              "</table>\n",
              "</div>\n",
              "      <button class=\"colab-df-convert\" onclick=\"convertToInteractive('df-b75a3948-ef03-419e-915c-acf121d4a9cb')\"\n",
              "              title=\"Convert this dataframe to an interactive table.\"\n",
              "              style=\"display:none;\">\n",
              "        \n",
              "  <svg xmlns=\"http://www.w3.org/2000/svg\" height=\"24px\"viewBox=\"0 0 24 24\"\n",
              "       width=\"24px\">\n",
              "    <path d=\"M0 0h24v24H0V0z\" fill=\"none\"/>\n",
              "    <path d=\"M18.56 5.44l.94 2.06.94-2.06 2.06-.94-2.06-.94-.94-2.06-.94 2.06-2.06.94zm-11 1L8.5 8.5l.94-2.06 2.06-.94-2.06-.94L8.5 2.5l-.94 2.06-2.06.94zm10 10l.94 2.06.94-2.06 2.06-.94-2.06-.94-.94-2.06-.94 2.06-2.06.94z\"/><path d=\"M17.41 7.96l-1.37-1.37c-.4-.4-.92-.59-1.43-.59-.52 0-1.04.2-1.43.59L10.3 9.45l-7.72 7.72c-.78.78-.78 2.05 0 2.83L4 21.41c.39.39.9.59 1.41.59.51 0 1.02-.2 1.41-.59l7.78-7.78 2.81-2.81c.8-.78.8-2.07 0-2.86zM5.41 20L4 18.59l7.72-7.72 1.47 1.35L5.41 20z\"/>\n",
              "  </svg>\n",
              "      </button>\n",
              "      \n",
              "  <style>\n",
              "    .colab-df-container {\n",
              "      display:flex;\n",
              "      flex-wrap:wrap;\n",
              "      gap: 12px;\n",
              "    }\n",
              "\n",
              "    .colab-df-convert {\n",
              "      background-color: #E8F0FE;\n",
              "      border: none;\n",
              "      border-radius: 50%;\n",
              "      cursor: pointer;\n",
              "      display: none;\n",
              "      fill: #1967D2;\n",
              "      height: 32px;\n",
              "      padding: 0 0 0 0;\n",
              "      width: 32px;\n",
              "    }\n",
              "\n",
              "    .colab-df-convert:hover {\n",
              "      background-color: #E2EBFA;\n",
              "      box-shadow: 0px 1px 2px rgba(60, 64, 67, 0.3), 0px 1px 3px 1px rgba(60, 64, 67, 0.15);\n",
              "      fill: #174EA6;\n",
              "    }\n",
              "\n",
              "    [theme=dark] .colab-df-convert {\n",
              "      background-color: #3B4455;\n",
              "      fill: #D2E3FC;\n",
              "    }\n",
              "\n",
              "    [theme=dark] .colab-df-convert:hover {\n",
              "      background-color: #434B5C;\n",
              "      box-shadow: 0px 1px 3px 1px rgba(0, 0, 0, 0.15);\n",
              "      filter: drop-shadow(0px 1px 2px rgba(0, 0, 0, 0.3));\n",
              "      fill: #FFFFFF;\n",
              "    }\n",
              "  </style>\n",
              "\n",
              "      <script>\n",
              "        const buttonEl =\n",
              "          document.querySelector('#df-b75a3948-ef03-419e-915c-acf121d4a9cb button.colab-df-convert');\n",
              "        buttonEl.style.display =\n",
              "          google.colab.kernel.accessAllowed ? 'block' : 'none';\n",
              "\n",
              "        async function convertToInteractive(key) {\n",
              "          const element = document.querySelector('#df-b75a3948-ef03-419e-915c-acf121d4a9cb');\n",
              "          const dataTable =\n",
              "            await google.colab.kernel.invokeFunction('convertToInteractive',\n",
              "                                                     [key], {});\n",
              "          if (!dataTable) return;\n",
              "\n",
              "          const docLinkHtml = 'Like what you see? Visit the ' +\n",
              "            '<a target=\"_blank\" href=https://colab.research.google.com/notebooks/data_table.ipynb>data table notebook</a>'\n",
              "            + ' to learn more about interactive tables.';\n",
              "          element.innerHTML = '';\n",
              "          dataTable['output_type'] = 'display_data';\n",
              "          await google.colab.output.renderOutput(dataTable, element);\n",
              "          const docLink = document.createElement('div');\n",
              "          docLink.innerHTML = docLinkHtml;\n",
              "          element.appendChild(docLink);\n",
              "        }\n",
              "      </script>\n",
              "    </div>\n",
              "  </div>\n",
              "  "
            ]
          },
          "metadata": {},
          "execution_count": 4
        }
      ]
    },
    {
      "cell_type": "markdown",
      "source": [
        "- In this example we’re only interested in the Annual Income (k\\$) and the Spending Score (1-100) columns\n",
        "- Dans cet exemple, nous ne sommes intéressés que par les colonnes \"Revenu annuel (k$)\" et \"Score de dépenses (1-100)\"."
      ],
      "metadata": {
        "id": "AKReQve-QSjc"
      }
    },
    {
      "cell_type": "code",
      "source": [
        "df.drop(['CustomerID','Age', 'Genre'], axis = 1, inplace = True)"
      ],
      "metadata": {
        "id": "ipU03alBk3Sg"
      },
      "execution_count": null,
      "outputs": []
    },
    {
      "cell_type": "markdown",
      "source": [
        "- Try ploting the annual income and spending score using a scatter plot\n",
        "- Essayez de représenter les revenus annuels et les dépenses à l'aide d'un diagramme scatter plot."
      ],
      "metadata": {
        "id": "CMt2ZMDaQUNb"
      }
    },
    {
      "cell_type": "code",
      "source": [
        "plt.plot(df['Annual Income (k$)'],df ['Spending Score (1-100)'],'bo')\n",
        "plt.show()"
      ],
      "metadata": {
        "id": "kbX7frNelOHx",
        "colab": {
          "base_uri": "https://localhost:8080/",
          "height": 265
        },
        "outputId": "c04e004d-bd00-4e9d-cc3c-6a3c4add7eb6"
      },
      "execution_count": null,
      "outputs": [
        {
          "output_type": "display_data",
          "data": {
            "text/plain": [
              "<Figure size 432x288 with 1 Axes>"
            ],
            "image/png": "[encoded data removed]"
          },
          "metadata": {
            "needs_background": "light"
          }
        }
      ]
    },
    {
      "cell_type": "markdown",
      "source": [
        "- Créer un modèle KMeans avec le nombre de clusters de votre choix. And fit it to the data\n",
        "- Créez un modèle KMeans avec le nombre de clusters de votre choix. Et l'adapter aux données"
      ],
      "metadata": {
        "id": "-Kq76jaKTSVD"
      }
    },
    {
      "cell_type": "code",
      "source": [
        "from scipy import cluster\n",
        "from sklearn.cluster import KMeans\n",
        "kmean = KMeans( n_clusters =5, random_state=0)\n",
        "kmean.fit(df)"
      ],
      "metadata": {
        "id": "7thV0LqAlTw9",
        "colab": {
          "base_uri": "https://localhost:8080/"
        },
        "outputId": "07db4b8a-6ea9-4ac2-bb40-26ebc8d85937"
      },
      "execution_count": null,
      "outputs": [
        {
          "output_type": "execute_result",
          "data": {
            "text/plain": [
              "KMeans(n_clusters=5, random_state=0)"
            ]
          },
          "metadata": {},
          "execution_count": 12
        }
      ]
    },
    {
      "cell_type": "markdown",
      "source": [
        "- Print the coordinates of the cluster centers your model generated\n",
        "- Affichez les coordonnées des centres des clusters générés par votre modèle."
      ],
      "metadata": {
        "id": "hTCEfsHkUHwi"
      }
    },
    {
      "cell_type": "code",
      "source": [
        "plt.scatter(kmean.cluster_centers_[:,0],kmean.cluster_centers_[:,1], s=200, c ='blue', label ='Centroids')\n",
        "plt.plot(df['Annual Income (k$)'],df ['Spending Score (1-100)'],'ro')\n",
        "plt.title('Clusters of Customers')\n",
        "plt.xlabel('Annual Income (k$)')\n",
        "plt.xlabel('Spending Score (1-100)')\n",
        "plt.legend()\n",
        "plt.show()"
      ],
      "metadata": {
        "id": "k0n-B0juUHfE",
        "colab": {
          "base_uri": "https://localhost:8080/",
          "height": 295
        },
        "outputId": "3b57040d-b680-4ec1-efcb-5fad1c69c592"
      },
      "execution_count": null,
      "outputs": [
        {
          "output_type": "display_data",
          "data": {
            "text/plain": [
              "<Figure size 432x288 with 1 Axes>"
            ],
            "image/png": "[encoded data removed]"
          },
          "metadata": {
            "needs_background": "light"
          }
        }
      ]
    },
    {
      "cell_type": "markdown",
      "source": [
        "- Show the cluster centers in a scatterplot\n",
        "- Affichez les centres des clusters dans un nuage de points"
      ],
      "metadata": {
        "id": "nOfq4NepUulK"
      }
    },
    {
      "cell_type": "markdown",
      "source": [
        "- Use .cluster_centers_\\[:,0] to get the X coordinates and .cluster_centers_\\[:,1] to get the Y coordinates\n",
        "- Utilisez .cluster_centers_\\[ :,0] pour obtenir les coordonnées X et .cluster_centers_\\[ :,1] pour obtenir les coordonnées Y."
      ],
      "metadata": {
        "id": "nyHUv2xbVUjT"
      }
    },
    {
      "cell_type": "code",
      "source": [
        "..."
      ],
      "metadata": {
        "id": "cOSjnT1GlaHY"
      },
      "execution_count": null,
      "outputs": []
    },
    {
      "cell_type": "markdown",
      "source": [
        "- Print the elbow function and then deduct what number of clusters is optimal\n",
        "- Imprimer la fonction coude et ensuite déduire quel nombre de clusters est optimal"
      ],
      "metadata": {
        "id": "9ryzM7hzXjOD"
      }
    },
    {
      "cell_type": "code",
      "source": [
        "sum_of_squared_dis = []\n",
        "K = range(1,15)\n",
        "for k in K:\n",
        "  km = KMeans(n_clusters=k)\n",
        "  km = km.fit(df)\n",
        "  sum_of_squared_dis.append(km.inertia_) \n",
        "\n",
        "plt.plot(sum_of_squared_dis)\n",
        "plt.show()"
      ],
      "metadata": {
        "colab": {
          "base_uri": "https://localhost:8080/",
          "height": 265
        },
        "id": "BLqvRyyjmZgu",
        "outputId": "024dd81f-9dcf-44e5-be6c-bdd01739cbdf"
      },
      "execution_count": null,
      "outputs": [
        {
          "output_type": "display_data",
          "data": {
            "text/plain": [
              "<Figure size 432x288 with 1 Axes>"
            ],
            "image/png": "[encoded data removed]"
          },
          "metadata": {
            "needs_background": "light"
          }
        }
      ]
    },
    {
      "cell_type": "markdown",
      "source": [
        "# 3 - small challenge (From Kaggle)"
      ],
      "metadata": {
        "id": "HmNFrFSUYanZ"
      }
    },
    {
      "cell_type": "markdown",
      "source": [
        "- In this small challenge we will use the iris dataset, well known in the field of data science. The challenge is to create a kMeans model that will cluster the iris dataset, the number of clusters is known from the beggining. Try doing every needed step from data visualization, to centroid visualization,..... Your solution must be explicite and presentable, you must write a code that you can explain after. See this as a mini project :)\n",
        "- Dans ce petit défi, nous allons utiliser le dataframe iris, bien connu dans le domaine de la science des données. Le défi est de créer un modèle kMeans qui va regrouper les données, le nombre de clusters est connu dès le début. Essayez de faire toutes les étapes nécessaires, de la visualisation des données à la visualisation des centroïdes, ...... Votre solution doit être explicite et présentable, vous devez écrire un code que vous pouvez expliquer après. Voyez ceci comme un mini projet :)"
      ],
      "metadata": {
        "id": "433ChHCOfmyj"
      }
    }
  ]
}