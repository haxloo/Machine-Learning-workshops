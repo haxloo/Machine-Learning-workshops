{
  "nbformat": 4,
  "nbformat_minor": 0,
  "metadata": {
    "colab": {
      "provenance": []
    },
    "kernelspec": {
      "name": "python3",
      "display_name": "Python 3"
    },
    "language_info": {
      "name": "python"
    }
  },
  "cells": [
    {
      "cell_type": "markdown",
      "source": [
        "# 1 - Decision trees (Classification) :"
      ],
      "metadata": {
        "id": "0JXBuA7yoJe3"
      }
    },
    {
      "cell_type": "markdown",
      "source": [
        "- In this section we will use a decision tree to predict whether a bank note is authentic or fake depending upon the four different attributes of the image of the note. The attributes are Variance of wavelet transformed image, curtosis of the image, entropy, and skewness of the image.\n",
        "-  Dans cette section, nous allons utiliser un arbre de décision pour prédire si un billet de banque est authentique ou faux en fonction de quatre attributs différents de l'image du billet. Ces attributs sont la variance de l'image transformée en ondelettes, la curtose de l'image, l'entropie et l'asymétrie de l'image."
      ],
      "metadata": {
        "id": "ulQMr1aapZgo"
      }
    },
    {
      "cell_type": "markdown",
      "source": [
        "---\n",
        "---"
      ],
      "metadata": {
        "id": "7enkS4YWq6a_"
      }
    },
    {
      "cell_type": "markdown",
      "source": [
        "- The two following cells will be use to import the libraries\n",
        "- Les deux cellules suivantes seront utilisées pour importer les bibliothèques"
      ],
      "metadata": {
        "id": "z6tN9Kt6q-GK"
      }
    },
    {
      "cell_type": "code",
      "execution_count": null,
      "metadata": {
        "id": "PeXOaIzahjFk"
      },
      "outputs": [],
      "source": [
        "import pandas as pd \n",
        "import numpy as np\n",
        "from sklearn.model_selection import train_test_split\n",
        "from sklearn import tree   \n",
        "from sklearn.tree import DecisionTreeClassifier\n",
        "from sklearn.metrics import accuracy_score\n",
        "import matplotlib.pyplot as plt\n"
      ]
    },
    {
      "cell_type": "code",
      "source": [
        "..."
      ],
      "metadata": {
        "id": "RcUrLrAdr1HS"
      },
      "execution_count": null,
      "outputs": []
    },
    {
      "cell_type": "markdown",
      "source": [
        "- Import the dataset and print the shape and the first rows\n",
        "- Importez le dataset et affichez la forme et les premières lignes."
      ],
      "metadata": {
        "id": "Pgwf7qDrr0bd"
      }
    },
    {
      "cell_type": "code",
      "source": [
        "df = pd.read_csv('bill_authentication.csv')\n",
        "df.shape"
      ],
      "metadata": {
        "id": "w_4NV8H5sJTS",
        "colab": {
          "base_uri": "https://localhost:8080/"
        },
        "outputId": "dcacbc2a-acd9-4248-9436-e1248d35b3d6"
      },
      "execution_count": null,
      "outputs": [
        {
          "output_type": "execute_result",
          "data": {
            "text/plain": [
              "(1372, 5)"
            ]
          },
          "metadata": {},
          "execution_count": 10
        }
      ]
    },
    {
      "cell_type": "code",
      "source": [
        "df.head()"
      ],
      "metadata": {
        "id": "JcgLuQ6IsJ_6",
        "colab": {
          "base_uri": "https://localhost:8080/",
          "height": 206
        },
        "outputId": "019ec2eb-12b3-4b18-9ee8-d63999c03799"
      },
      "execution_count": null,
      "outputs": [
        {
          "output_type": "execute_result",
          "data": {
            "text/plain": [
              "   Variance  Skewness  Curtosis  Entropy  Class\n",
              "0   3.62160    8.6661   -2.8073 -0.44699      0\n",
              "1   4.54590    8.1674   -2.4586 -1.46210      0\n",
              "2   3.86600   -2.6383    1.9242  0.10645      0\n",
              "3   3.45660    9.5228   -4.0112 -3.59440      0\n",
              "4   0.32924   -4.4552    4.5718 -0.98880      0"
            ],
            "text/html": [
              "\n",
              "  <div id=\"df-0f6bc885-95c2-4b07-ab3c-bd90ab92b4c5\">\n",
              "    <div class=\"colab-df-container\">\n",
              "      <div>\n",
              "<style scoped>\n",
              "    .dataframe tbody tr th:only-of-type {\n",
              "        vertical-align: middle;\n",
              "    }\n",
              "\n",
              "    .dataframe tbody tr th {\n",
              "        vertical-align: top;\n",
              "    }\n",
              "\n",
              "    .dataframe thead th {\n",
              "        text-align: right;\n",
              "    }\n",
              "</style>\n",
              "<table border=\"1\" class=\"dataframe\">\n",
              "  <thead>\n",
              "    <tr style=\"text-align: right;\">\n",
              "      <th></th>\n",
              "      <th>Variance</th>\n",
              "      <th>Skewness</th>\n",
              "      <th>Curtosis</th>\n",
              "      <th>Entropy</th>\n",
              "      <th>Class</th>\n",
              "    </tr>\n",
              "  </thead>\n",
              "  <tbody>\n",
              "    <tr>\n",
              "      <th>0</th>\n",
              "      <td>3.62160</td>\n",
              "      <td>8.6661</td>\n",
              "      <td>-2.8073</td>\n",
              "      <td>-0.44699</td>\n",
              "      <td>0</td>\n",
              "    </tr>\n",
              "    <tr>\n",
              "      <th>1</th>\n",
              "      <td>4.54590</td>\n",
              "      <td>8.1674</td>\n",
              "      <td>-2.4586</td>\n",
              "      <td>-1.46210</td>\n",
              "      <td>0</td>\n",
              "    </tr>\n",
              "    <tr>\n",
              "      <th>2</th>\n",
              "      <td>3.86600</td>\n",
              "      <td>-2.6383</td>\n",
              "      <td>1.9242</td>\n",
              "      <td>0.10645</td>\n",
              "      <td>0</td>\n",
              "    </tr>\n",
              "    <tr>\n",
              "      <th>3</th>\n",
              "      <td>3.45660</td>\n",
              "      <td>9.5228</td>\n",
              "      <td>-4.0112</td>\n",
              "      <td>-3.59440</td>\n",
              "      <td>0</td>\n",
              "    </tr>\n",
              "    <tr>\n",
              "      <th>4</th>\n",
              "      <td>0.32924</td>\n",
              "      <td>-4.4552</td>\n",
              "      <td>4.5718</td>\n",
              "      <td>-0.98880</td>\n",
              "      <td>0</td>\n",
              "    </tr>\n",
              "  </tbody>\n",
              "</table>\n",
              "</div>\n",
              "      <button class=\"colab-df-convert\" onclick=\"convertToInteractive('df-0f6bc885-95c2-4b07-ab3c-bd90ab92b4c5')\"\n",
              "              title=\"Convert this dataframe to an interactive table.\"\n",
              "              style=\"display:none;\">\n",
              "        \n",
              "  <svg xmlns=\"http://www.w3.org/2000/svg\" height=\"24px\"viewBox=\"0 0 24 24\"\n",
              "       width=\"24px\">\n",
              "    <path d=\"M0 0h24v24H0V0z\" fill=\"none\"/>\n",
              "    <path d=\"M18.56 5.44l.94 2.06.94-2.06 2.06-.94-2.06-.94-.94-2.06-.94 2.06-2.06.94zm-11 1L8.5 8.5l.94-2.06 2.06-.94-2.06-.94L8.5 2.5l-.94 2.06-2.06.94zm10 10l.94 2.06.94-2.06 2.06-.94-2.06-.94-.94-2.06-.94 2.06-2.06.94z\"/><path d=\"M17.41 7.96l-1.37-1.37c-.4-.4-.92-.59-1.43-.59-.52 0-1.04.2-1.43.59L10.3 9.45l-7.72 7.72c-.78.78-.78 2.05 0 2.83L4 21.41c.39.39.9.59 1.41.59.51 0 1.02-.2 1.41-.59l7.78-7.78 2.81-2.81c.8-.78.8-2.07 0-2.86zM5.41 20L4 18.59l7.72-7.72 1.47 1.35L5.41 20z\"/>\n",
              "  </svg>\n",
              "      </button>\n",
              "      \n",
              "  <style>\n",
              "    .colab-df-container {\n",
              "      display:flex;\n",
              "      flex-wrap:wrap;\n",
              "      gap: 12px;\n",
              "    }\n",
              "\n",
              "    .colab-df-convert {\n",
              "      background-color: #E8F0FE;\n",
              "      border: none;\n",
              "      border-radius: 50%;\n",
              "      cursor: pointer;\n",
              "      display: none;\n",
              "      fill: #1967D2;\n",
              "      height: 32px;\n",
              "      padding: 0 0 0 0;\n",
              "      width: 32px;\n",
              "    }\n",
              "\n",
              "    .colab-df-convert:hover {\n",
              "      background-color: #E2EBFA;\n",
              "      box-shadow: 0px 1px 2px rgba(60, 64, 67, 0.3), 0px 1px 3px 1px rgba(60, 64, 67, 0.15);\n",
              "      fill: #174EA6;\n",
              "    }\n",
              "\n",
              "    [theme=dark] .colab-df-convert {\n",
              "      background-color: #3B4455;\n",
              "      fill: #D2E3FC;\n",
              "    }\n",
              "\n",
              "    [theme=dark] .colab-df-convert:hover {\n",
              "      background-color: #434B5C;\n",
              "      box-shadow: 0px 1px 3px 1px rgba(0, 0, 0, 0.15);\n",
              "      filter: drop-shadow(0px 1px 2px rgba(0, 0, 0, 0.3));\n",
              "      fill: #FFFFFF;\n",
              "    }\n",
              "  </style>\n",
              "\n",
              "      <script>\n",
              "        const buttonEl =\n",
              "          document.querySelector('#df-0f6bc885-95c2-4b07-ab3c-bd90ab92b4c5 button.colab-df-convert');\n",
              "        buttonEl.style.display =\n",
              "          google.colab.kernel.accessAllowed ? 'block' : 'none';\n",
              "\n",
              "        async function convertToInteractive(key) {\n",
              "          const element = document.querySelector('#df-0f6bc885-95c2-4b07-ab3c-bd90ab92b4c5');\n",
              "          const dataTable =\n",
              "            await google.colab.kernel.invokeFunction('convertToInteractive',\n",
              "                                                     [key], {});\n",
              "          if (!dataTable) return;\n",
              "\n",
              "          const docLinkHtml = 'Like what you see? Visit the ' +\n",
              "            '<a target=\"_blank\" href=https://colab.research.google.com/notebooks/data_table.ipynb>data table notebook</a>'\n",
              "            + ' to learn more about interactive tables.';\n",
              "          element.innerHTML = '';\n",
              "          dataTable['output_type'] = 'display_data';\n",
              "          await google.colab.output.renderOutput(dataTable, element);\n",
              "          const docLink = document.createElement('div');\n",
              "          docLink.innerHTML = docLinkHtml;\n",
              "          element.appendChild(docLink);\n",
              "        }\n",
              "      </script>\n",
              "    </div>\n",
              "  </div>\n",
              "  "
            ]
          },
          "metadata": {},
          "execution_count": 11
        }
      ]
    },
    {
      "cell_type": "markdown",
      "source": [
        "- Divide the data into attributes and labels (input and output) and then into training and testing datasets\n",
        "- Diviser les données en attributs et en étiquettes (entrée et sortie), puis en ensembles de données de training et de testing."
      ],
      "metadata": {
        "id": "SrarK0gEtq6N"
      }
    },
    {
      "cell_type": "code",
      "source": [
        "y= df.pop(\"Class\")\n",
        "x=df"
      ],
      "metadata": {
        "id": "B0LmzsootJpG"
      },
      "execution_count": null,
      "outputs": []
    },
    {
      "cell_type": "markdown",
      "source": [
        "- Create a DecisionTreeClassifier and train it and generate a prediction on the testing set\n",
        "- Créez un DecisionTreeClassifier et entraînez-le et générer une prédiction sur l'ensemble de test"
      ],
      "metadata": {
        "id": "1xmATj6ru3LF"
      }
    },
    {
      "cell_type": "code",
      "source": [
        "x_train, x_test, y_train, y_test = train_test_split(x,y, test_size=0.20,random_state=10)"
      ],
      "metadata": {
        "id": "TJB35He_uqWc"
      },
      "execution_count": null,
      "outputs": []
    },
    {
      "cell_type": "code",
      "source": [
        "tree = tree.DecisionTreeClassifier()  \n",
        "tree.fit(x_train, y_train)   #fitting our model\n",
        "y_pred=tree.predict(x_test)   # evaluating our model\n",
        "print(\"score:{}\".format(accuracy_score(y_test, y_pred)))"
      ],
      "metadata": {
        "id": "oxG0lRqGv1Bd",
        "colab": {
          "base_uri": "https://localhost:8080/"
        },
        "outputId": "f5abdebd-01a7-423c-ecc1-d1337cbfe06f"
      },
      "execution_count": null,
      "outputs": [
        {
          "output_type": "stream",
          "name": "stdout",
          "text": [
            "score:0.9854545454545455\n"
          ]
        }
      ]
    },
    {
      "cell_type": "markdown",
      "source": [
        "- Evaluate your model using the confusion matrix and the classification report\n",
        "- Évaluez votre modèle en utilisant la matrice de confusion et le rapport de classification."
      ],
      "metadata": {
        "id": "9-8nIjMfwLX2"
      }
    },
    {
      "cell_type": "code",
      "source": [
        "#this code is to generate good looking confusion matrix\n",
        "import seaborn as sns\n",
        "def print_confusion_matrix(cf_matrix):\n",
        "  labels = ['TN','FP','FN','TP']\n",
        "  labels = np.asarray(labels).reshape(2,2)\n",
        "  ax = sns.heatmap(cf_matrix, annot=labels, fmt='', cmap='Blues')\n",
        "  ax.set_title('Confusion Matrix\\n\\n');\n",
        "  ax.set_xlabel('\\nPredicted Values')\n",
        "  ax.set_ylabel('Actual Values ');\n",
        "  ax.xaxis.set_ticklabels(['False','True'])\n",
        "  ax.yaxis.set_ticklabels(['False','True'])\n",
        "  plt.show()"
      ],
      "metadata": {
        "id": "CAjW5lkDwnep"
      },
      "execution_count": null,
      "outputs": []
    },
    {
      "cell_type": "code",
      "source": [
        "confusion_matrix = pd.crosstab(y_test, y_pred, rownames=['Actual'], colnames=['Predicted'])\n",
        "print_confusion_matrix(confusion_matrix)"
      ],
      "metadata": {
        "id": "rBIkqcNzxTLU",
        "colab": {
          "base_uri": "https://localhost:8080/",
          "height": 337
        },
        "outputId": "911ddd8b-a8fe-4884-c026-09d582aa04e6"
      },
      "execution_count": null,
      "outputs": [
        {
          "output_type": "display_data",
          "data": {
            "text/plain": [
              "<Figure size 432x288 with 2 Axes>"
            ],
            "image/png": "[encoded data removed]"
          },
          "metadata": {
            "needs_background": "light"
          }
        }
      ]
    },
    {
      "cell_type": "code",
      "source": [
        "confusion_matrix"
      ],
      "metadata": {
        "id": "pQ8FUMZAwgXW",
        "colab": {
          "base_uri": "https://localhost:8080/",
          "height": 143
        },
        "outputId": "fa638785-c8d4-4591-b56a-30534f9d070e"
      },
      "execution_count": null,
      "outputs": [
        {
          "output_type": "execute_result",
          "data": {
            "text/plain": [
              "Predicted    0    1\n",
              "Actual             \n",
              "0          150    2\n",
              "1            2  121"
            ],
            "text/html": [
              "\n",
              "  <div id=\"df-a0ef415a-712b-4eb0-bb23-bbea3dcaaae4\">\n",
              "    <div class=\"colab-df-container\">\n",
              "      <div>\n",
              "<style scoped>\n",
              "    .dataframe tbody tr th:only-of-type {\n",
              "        vertical-align: middle;\n",
              "    }\n",
              "\n",
              "    .dataframe tbody tr th {\n",
              "        vertical-align: top;\n",
              "    }\n",
              "\n",
              "    .dataframe thead th {\n",
              "        text-align: right;\n",
              "    }\n",
              "</style>\n",
              "<table border=\"1\" class=\"dataframe\">\n",
              "  <thead>\n",
              "    <tr style=\"text-align: right;\">\n",
              "      <th>Predicted</th>\n",
              "      <th>0</th>\n",
              "      <th>1</th>\n",
              "    </tr>\n",
              "    <tr>\n",
              "      <th>Actual</th>\n",
              "      <th></th>\n",
              "      <th></th>\n",
              "    </tr>\n",
              "  </thead>\n",
              "  <tbody>\n",
              "    <tr>\n",
              "      <th>0</th>\n",
              "      <td>150</td>\n",
              "      <td>2</td>\n",
              "    </tr>\n",
              "    <tr>\n",
              "      <th>1</th>\n",
              "      <td>2</td>\n",
              "      <td>121</td>\n",
              "    </tr>\n",
              "  </tbody>\n",
              "</table>\n",
              "</div>\n",
              "      <button class=\"colab-df-convert\" onclick=\"convertToInteractive('df-a0ef415a-712b-4eb0-bb23-bbea3dcaaae4')\"\n",
              "              title=\"Convert this dataframe to an interactive table.\"\n",
              "              style=\"display:none;\">\n",
              "        \n",
              "  <svg xmlns=\"http://www.w3.org/2000/svg\" height=\"24px\"viewBox=\"0 0 24 24\"\n",
              "       width=\"24px\">\n",
              "    <path d=\"M0 0h24v24H0V0z\" fill=\"none\"/>\n",
              "    <path d=\"M18.56 5.44l.94 2.06.94-2.06 2.06-.94-2.06-.94-.94-2.06-.94 2.06-2.06.94zm-11 1L8.5 8.5l.94-2.06 2.06-.94-2.06-.94L8.5 2.5l-.94 2.06-2.06.94zm10 10l.94 2.06.94-2.06 2.06-.94-2.06-.94-.94-2.06-.94 2.06-2.06.94z\"/><path d=\"M17.41 7.96l-1.37-1.37c-.4-.4-.92-.59-1.43-.59-.52 0-1.04.2-1.43.59L10.3 9.45l-7.72 7.72c-.78.78-.78 2.05 0 2.83L4 21.41c.39.39.9.59 1.41.59.51 0 1.02-.2 1.41-.59l7.78-7.78 2.81-2.81c.8-.78.8-2.07 0-2.86zM5.41 20L4 18.59l7.72-7.72 1.47 1.35L5.41 20z\"/>\n",
              "  </svg>\n",
              "      </button>\n",
              "      \n",
              "  <style>\n",
              "    .colab-df-container {\n",
              "      display:flex;\n",
              "      flex-wrap:wrap;\n",
              "      gap: 12px;\n",
              "    }\n",
              "\n",
              "    .colab-df-convert {\n",
              "      background-color: #E8F0FE;\n",
              "      border: none;\n",
              "      border-radius: 50%;\n",
              "      cursor: pointer;\n",
              "      display: none;\n",
              "      fill: #1967D2;\n",
              "      height: 32px;\n",
              "      padding: 0 0 0 0;\n",
              "      width: 32px;\n",
              "    }\n",
              "\n",
              "    .colab-df-convert:hover {\n",
              "      background-color: #E2EBFA;\n",
              "      box-shadow: 0px 1px 2px rgba(60, 64, 67, 0.3), 0px 1px 3px 1px rgba(60, 64, 67, 0.15);\n",
              "      fill: #174EA6;\n",
              "    }\n",
              "\n",
              "    [theme=dark] .colab-df-convert {\n",
              "      background-color: #3B4455;\n",
              "      fill: #D2E3FC;\n",
              "    }\n",
              "\n",
              "    [theme=dark] .colab-df-convert:hover {\n",
              "      background-color: #434B5C;\n",
              "      box-shadow: 0px 1px 3px 1px rgba(0, 0, 0, 0.15);\n",
              "      filter: drop-shadow(0px 1px 2px rgba(0, 0, 0, 0.3));\n",
              "      fill: #FFFFFF;\n",
              "    }\n",
              "  </style>\n",
              "\n",
              "      <script>\n",
              "        const buttonEl =\n",
              "          document.querySelector('#df-a0ef415a-712b-4eb0-bb23-bbea3dcaaae4 button.colab-df-convert');\n",
              "        buttonEl.style.display =\n",
              "          google.colab.kernel.accessAllowed ? 'block' : 'none';\n",
              "\n",
              "        async function convertToInteractive(key) {\n",
              "          const element = document.querySelector('#df-a0ef415a-712b-4eb0-bb23-bbea3dcaaae4');\n",
              "          const dataTable =\n",
              "            await google.colab.kernel.invokeFunction('convertToInteractive',\n",
              "                                                     [key], {});\n",
              "          if (!dataTable) return;\n",
              "\n",
              "          const docLinkHtml = 'Like what you see? Visit the ' +\n",
              "            '<a target=\"_blank\" href=https://colab.research.google.com/notebooks/data_table.ipynb>data table notebook</a>'\n",
              "            + ' to learn more about interactive tables.';\n",
              "          element.innerHTML = '';\n",
              "          dataTable['output_type'] = 'display_data';\n",
              "          await google.colab.output.renderOutput(dataTable, element);\n",
              "          const docLink = document.createElement('div');\n",
              "          docLink.innerHTML = docLinkHtml;\n",
              "          element.appendChild(docLink);\n",
              "        }\n",
              "      </script>\n",
              "    </div>\n",
              "  </div>\n",
              "  "
            ]
          },
          "metadata": {},
          "execution_count": 20
        }
      ]
    },
    {
      "cell_type": "markdown",
      "source": [
        "# 2 - Decision trees (Regression) :"
      ],
      "metadata": {
        "id": "LOc19vM9yp7l"
      }
    },
    {
      "cell_type": "markdown",
      "source": [
        "- This time, we will create a decision tree to predict a numerical value, the age of an animal in this case, based on some of these characteristics.\n",
        "- Cette fois, Nous allons créer un arbre de décision pour prédire une valeur numérique,l'age d'un animal dans ce cas la, en se basant sur certaines de ces caractéristiques."
      ],
      "metadata": {
        "id": "85cBYGR-zY0L"
      }
    },
    {
      "cell_type": "markdown",
      "source": [
        "---\n",
        "---"
      ],
      "metadata": {
        "id": "VrSG-69ec9FJ"
      }
    },
    {
      "cell_type": "markdown",
      "source": [
        "- First, import the dataset and exploreit, do the preprocessing (delete the column(s) you think that are useless), create a DecisionTreeRegressor and train test it. When you're done, calculate its preformances (mean square error, ....).\n",
        "- Tout d'abord, importez le dataframe et explorez-le, effectuez le prétraitement (supprimez la ou les colonnes qui vous semblent inutiles), créez un DecisionTreeRegressor et entraînez/testez-le. Lorsque vous avez terminé, calculez ses préformances (MSE, ....)."
      ],
      "metadata": {
        "id": "0Xi0T2qQc-a9"
      }
    },
    {
      "cell_type": "code",
      "source": [
        "..."
      ],
      "metadata": {
        "id": "LLoCxMFTyuHN"
      },
      "execution_count": null,
      "outputs": []
    },
    {
      "cell_type": "code",
      "source": [
        "..."
      ],
      "metadata": {
        "id": "aDL8BU-_zjaC"
      },
      "execution_count": null,
      "outputs": []
    },
    {
      "cell_type": "code",
      "source": [
        "..."
      ],
      "metadata": {
        "id": "-hgXI0OOMuBo"
      },
      "execution_count": null,
      "outputs": []
    },
    {
      "cell_type": "code",
      "source": [
        "...\n",
        "...\n",
        "..."
      ],
      "metadata": {
        "id": "ULa7QZF5Rwej"
      },
      "execution_count": null,
      "outputs": []
    },
    {
      "cell_type": "code",
      "source": [
        "...\n",
        "...\n",
        "\n",
        "\n",
        "..."
      ],
      "metadata": {
        "id": "iW2PFzEjKrHB"
      },
      "execution_count": null,
      "outputs": []
    },
    {
      "cell_type": "code",
      "source": [
        "...\n",
        "..."
      ],
      "metadata": {
        "id": "WxUgJfzTKti5"
      },
      "execution_count": null,
      "outputs": []
    },
    {
      "cell_type": "code",
      "source": [
        "..."
      ],
      "metadata": {
        "id": "OoTrm4lKMy_w"
      },
      "execution_count": null,
      "outputs": []
    },
    {
      "cell_type": "code",
      "source": [
        "...\n",
        "..."
      ],
      "metadata": {
        "id": "bf3Klr38M2Fo"
      },
      "execution_count": null,
      "outputs": []
    },
    {
      "cell_type": "code",
      "source": [
        "...\n",
        "...\n",
        "..."
      ],
      "metadata": {
        "id": "pzbhHAdCNxKX"
      },
      "execution_count": null,
      "outputs": []
    },
    {
      "cell_type": "markdown",
      "source": [
        "- If you did everything right, execute the code below to visualize the decision tree.\n",
        "- Si vous avez tout fait correctement, exécutez le code ci-dessous pour visualiser l'arbre de décision."
      ],
      "metadata": {
        "id": "cCdJwbllgxEn"
      }
    },
    {
      "cell_type": "code",
      "source": [
        "plt.figure(figsize=(100,80), dpi=150)\n",
        "plot_tree(reg, feature_names=X.columns);"
      ],
      "metadata": {
        "id": "DHsTpDeLOBee"
      },
      "execution_count": null,
      "outputs": []
    },
    {
      "cell_type": "markdown",
      "source": [
        "# 3 - Random Forest"
      ],
      "metadata": {
        "id": "5l223u3ThDvN"
      }
    },
    {
      "cell_type": "markdown",
      "source": [
        "[Random Forest Illustration](https://vitalflux.com/wp-content/uploads/2022/03/random-forest-classifier-1.png)"
      ],
      "metadata": {
        "id": "htOg7mWxmY0q"
      }
    },
    {
      "cell_type": "markdown",
      "source": [
        "- Now you'll create a random forest to predict the happiness score of a country using a random forest, do the same steps (preprocessing, model creation, training, testing, and performances) as for the decision tree. You will use 2017.csv dataset of course.\n",
        "- Maintenant vous allez créer une forêt aléatoire pour prédire le score de bonheur d'un pays en utilisant une forêt aléatoire, faites les mêmes étapes (prétraitement, création du modèle, entraînement, test et performances) que pour l'arbre de décision. Vous utiliserez le dataframe 2017.csv"
      ],
      "metadata": {
        "id": "hbXAcirZi-Ms"
      }
    },
    {
      "cell_type": "markdown",
      "source": [
        "- Note : in the preprocessing step you'll need to delete some columns, like 'Whisker.high', 'Whisker.low' and others\n",
        "- Note : dans l'étape de prétraitement, vous devrez supprimer certaines colonnes, comme 'Whisker.high', 'Whisker.low' et autres."
      ],
      "metadata": {
        "id": "4wAw92fg3Wn1"
      }
    },
    {
      "cell_type": "code",
      "source": [
        "..."
      ],
      "metadata": {
        "id": "RBvdAajPi9tW"
      },
      "execution_count": null,
      "outputs": []
    },
    {
      "cell_type": "code",
      "source": [
        "..."
      ],
      "metadata": {
        "id": "S6xGsKxJjpNc"
      },
      "execution_count": null,
      "outputs": []
    },
    {
      "cell_type": "code",
      "source": [
        "..."
      ],
      "metadata": {
        "id": "dlroZCwNjuwS"
      },
      "execution_count": null,
      "outputs": []
    },
    {
      "cell_type": "code",
      "source": [
        "...\n",
        "..."
      ],
      "metadata": {
        "id": "cBzaQESCjwuP"
      },
      "execution_count": null,
      "outputs": []
    },
    {
      "cell_type": "code",
      "source": [
        "...\n",
        "...\n",
        "\n",
        "..."
      ],
      "metadata": {
        "id": "lG-nGu06j0HX"
      },
      "execution_count": null,
      "outputs": []
    },
    {
      "cell_type": "code",
      "source": [
        "...\n",
        "..."
      ],
      "metadata": {
        "id": "myRPVEknj0x0"
      },
      "execution_count": null,
      "outputs": []
    },
    {
      "cell_type": "code",
      "source": [
        "...\n",
        "..."
      ],
      "metadata": {
        "id": "VUyYDhrSkFMv"
      },
      "execution_count": null,
      "outputs": []
    },
    {
      "cell_type": "code",
      "source": [
        "result=pd.DataFrame({'Actual':y_test, 'Predicted':pred})\n",
        "result"
      ],
      "metadata": {
        "id": "CEyavI6hkKml"
      },
      "execution_count": null,
      "outputs": []
    },
    {
      "cell_type": "markdown",
      "source": [
        "- A little challenge : craft a barplot to show the four most important feature for the happiness of an individual\n",
        "- Un petit défi : créer un barplot pour montrer les quatre caractéristiques les plus importantes pour le bonheur d'un individu."
      ],
      "metadata": {
        "id": "7NB1B921z5C4"
      }
    },
    {
      "cell_type": "code",
      "source": [
        "..."
      ],
      "metadata": {
        "id": "Kxe1e3b5kSR6"
      },
      "execution_count": null,
      "outputs": []
    },
    {
      "cell_type": "markdown",
      "source": [
        "# 4 - K-fold Cross Validation"
      ],
      "metadata": {
        "id": "jiyAa43r3OxG"
      }
    },
    {
      "cell_type": "markdown",
      "source": [
        "- In this small exercice load the iris dataset like in the previous workshop. create a classifier of your choice (any classifier you want) train it using train_test_split and then using cross_validation\n",
        "- Dans ce petit exercice, chargez dataset de l'iris comme dans l'atelier précédent. Créez un classificateur de votre choix (n'importe lequel) et entraînez-le en utilisant train_test_split puis ensuite en utilisant cross_validation."
      ],
      "metadata": {
        "id": "dZdNRpGL5450"
      }
    },
    {
      "cell_type": "code",
      "source": [
        "...\n"
      ],
      "metadata": {
        "id": "4xF1T05f3wCh"
      },
      "execution_count": null,
      "outputs": []
    },
    {
      "cell_type": "code",
      "source": [
        "..."
      ],
      "metadata": {
        "id": "HCUVBG6h4rvU"
      },
      "execution_count": null,
      "outputs": []
    }
  ]
}